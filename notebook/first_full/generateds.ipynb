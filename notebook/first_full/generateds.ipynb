{
 "cells": [
  {
   "cell_type": "code",
   "execution_count": 2,
   "metadata": {},
   "outputs": [],
   "source": [
    "import numpy as np\n",
    "import matplotlib.pyplot as plt\n",
    "seed=2"
   ]
  },
  {
   "cell_type": "code",
   "execution_count": 26,
   "metadata": {},
   "outputs": [],
   "source": [
    "def generateds():\n",
    "    rdm=np.random.RandomState(seed)\n",
    "    \n",
    "    X = rdm.randn(300,2)\n",
    "    \n",
    "    Y_=[int(x0*x0+x1*x1<2) for (x0,x1) in X]\n",
    "    \n",
    "    Y_c=[[\"red\" if y else \"blue\"] for y in Y_]\n",
    "    \n",
    "    X=np.vstack(X).reshape(-1,2)\n",
    "    Y_=np.vstack(Y_).reshape(-1,1)\n",
    "    \n",
    "    return X, Y_, Y_c"
   ]
  },
  {
   "cell_type": "code",
   "execution_count": null,
   "metadata": {},
   "outputs": [],
   "source": []
  }
 ],
 "metadata": {
  "kernelspec": {
   "display_name": "Python 3",
   "language": "python",
   "name": "python3"
  },
  "language_info": {
   "codemirror_mode": {
    "name": "ipython",
    "version": 3
   },
   "file_extension": ".py",
   "mimetype": "text/x-python",
   "name": "python",
   "nbconvert_exporter": "python",
   "pygments_lexer": "ipython3",
   "version": "3.7.1"
  }
 },
 "nbformat": 4,
 "nbformat_minor": 2
}
