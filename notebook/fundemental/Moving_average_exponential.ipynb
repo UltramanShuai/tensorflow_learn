{
 "cells": [
  {
   "cell_type": "markdown",
   "metadata": {},
   "source": [
    "# 滑动平均"
   ]
  },
  {
   "cell_type": "code",
   "execution_count": 1,
   "metadata": {},
   "outputs": [],
   "source": [
    "import tensorflow as tf"
   ]
  },
  {
   "cell_type": "markdown",
   "metadata": {},
   "source": [
    "ema=tf.train.ExponentialMovingAverage(衰减率MOVING_AVERAGE_DECAY,\n",
    "                                     当前轮数global_step)  \n",
    "ema_op=ema.apply(tf.trainable_variables())  \n",
    "# 每运行此句，所有待优化的参数求滑动平均  \n",
    "with tf.control_dependencies([train_step,ema_op]):  \n",
    "    train_op=tf.no_op(name=\"train\")  \n",
    "    \n",
    "ema.average(参数名)  "
   ]
  },
  {
   "cell_type": "code",
   "execution_count": 2,
   "metadata": {},
   "outputs": [
    {
     "name": "stdout",
     "output_type": "stream",
     "text": [
      "WARNING:tensorflow:From C:\\Programmer\\Anaconda3\\envs\\python3_anaconda_env\\lib\\site-packages\\tensorflow\\python\\framework\\op_def_library.py:263: colocate_with (from tensorflow.python.framework.ops) is deprecated and will be removed in a future version.\n",
      "Instructions for updating:\n",
      "Colocations handled automatically by placer.\n"
     ]
    }
   ],
   "source": [
    "w1 = tf.Variable(0,dtype=tf.float32)"
   ]
  },
  {
   "cell_type": "code",
   "execution_count": 3,
   "metadata": {},
   "outputs": [],
   "source": [
    "global_step=tf.Variable(0,trainable=False)"
   ]
  },
  {
   "cell_type": "code",
   "execution_count": 4,
   "metadata": {},
   "outputs": [],
   "source": [
    "# 定义衰减率为0.99,当前轮数global_step\n",
    "MOVIE_AVERAGE_DECAY= 0.99\n",
    "ema=tf.train.ExponentialMovingAverage(MOVIE_AVERAGE_DECAY,global_step)"
   ]
  },
  {
   "cell_type": "code",
   "execution_count": 5,
   "metadata": {},
   "outputs": [],
   "source": [
    "#ema.apply后的括号里是更新列表，每次运行sess.run（ema_op）时，对更新列表中的元素求滑动平均值。\n",
    "#在实际应用中会使用tf.trainable_variables()自动将所有待训练的参数汇总为列表\n",
    "#ema_op = ema.apply([w1])\n",
    "ema_op=ema.apply(tf.trainable_variables())"
   ]
  },
  {
   "cell_type": "code",
   "execution_count": 8,
   "metadata": {},
   "outputs": [
    {
     "name": "stdout",
     "output_type": "stream",
     "text": [
      "[0.0, 0.0]\n",
      "[1.0, 0.9]\n",
      "[10.0, 1.6445453]\n",
      "[10.0, 2.3281732]\n",
      "[10.0, 2.955868]\n",
      "[10.0, 3.532206]\n",
      "[10.0, 4.061389]\n",
      "[10.0, 4.547275]\n"
     ]
    }
   ],
   "source": [
    "with tf.Session() as sess:\n",
    "    init_op=tf.global_variables_initializer()\n",
    "    sess.run(init_op)\n",
    "    \n",
    "    print(sess.run([w1,ema.average(w1)]))\n",
    "    \n",
    "    sess.run(tf.assign(w1,1))\n",
    "    sess.run(ema_op)\n",
    "    print(sess.run([w1,ema.average(w1)]))\n",
    "    \n",
    "    sess.run(tf.assign(global_step,100))\n",
    "    sess.run(tf.assign(w1,10))\n",
    "    sess.run(ema_op)\n",
    "    print(sess.run([w1,ema.average(w1)]))\n",
    "    \n",
    "    sess.run(ema_op)\n",
    "    print(sess.run([w1,ema.average(w1)]))\n",
    "    \n",
    "    sess.run(ema_op)\n",
    "    print(sess.run([w1,ema.average(w1)]))\n",
    "    \n",
    "    sess.run(ema_op)\n",
    "    print(sess.run([w1,ema.average(w1)]))\n",
    "    \n",
    "    sess.run(ema_op)\n",
    "    print(sess.run([w1,ema.average(w1)]))\n",
    "    \n",
    "    sess.run(ema_op)\n",
    "    print(sess.run([w1,ema.average(w1)]))\n",
    "    "
   ]
  },
  {
   "cell_type": "code",
   "execution_count": null,
   "metadata": {},
   "outputs": [],
   "source": []
  }
 ],
 "metadata": {
  "kernelspec": {
   "display_name": "Python 3",
   "language": "python",
   "name": "python3"
  },
  "language_info": {
   "codemirror_mode": {
    "name": "ipython",
    "version": 3
   },
   "file_extension": ".py",
   "mimetype": "text/x-python",
   "name": "python",
   "nbconvert_exporter": "python",
   "pygments_lexer": "ipython3",
   "version": "3.7.1"
  }
 },
 "nbformat": 4,
 "nbformat_minor": 2
}
