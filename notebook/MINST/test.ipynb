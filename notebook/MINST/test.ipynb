{
 "cells": [
  {
   "cell_type": "code",
   "execution_count": 4,
   "metadata": {},
   "outputs": [],
   "source": [
    "import time\n",
    "import tensorflow as tf\n",
    "from tensorflow.examples.tutorials.mnist import input_data\n",
    "import forward\n",
    "import backward\n",
    "TEST_INTERVAL_SECS = 5"
   ]
  },
  {
   "cell_type": "code",
   "execution_count": 5,
   "metadata": {},
   "outputs": [],
   "source": [
    "def test(mnist):\n",
    "    with tf.Graph().as_default() as g:\n",
    "        x = tf.placeholder(tf.float32,[None,forward.INPUT_NODE])\n",
    "        y_ = tf.placeholder(tf.float32,[None,forward.OUTPUT_NODE])\n",
    "        y = forward.forward(x,None)\n",
    "\n",
    "        ema = tf.train.ExponentialMovingAverage(backward.MOVING_AVERAGE_DECAY)\n",
    "        ema_restore = ema.variables_to_restore()\n",
    "        saver = tf.train.Saver(ema_restore)\n",
    "\n",
    "        correct_prediction = tf.equal(tf.argmax(y,1),tf.argmax(y_,1))\n",
    "        accuracy = tf.reduce_mean(tf.cast(correct_prediction,tf.float32))\n",
    "\n",
    "        while True:\n",
    "            with tf.Session() as sess:\n",
    "                ckpt = tf.train.get_checkpoint_state(backward.MODEL_SAVE_PATH)\n",
    "                if ckpt and ckpt.model_checkpoint_path:\n",
    "                    saver.restore(sess,ckpt.model_checkpoint_path)\n",
    "                    global_step = ckpt.model_checkpoint_path.split('/')[-1].split('-')[-1]\n",
    "                    accuracy_score = sess.run(accuracy,feed_dict={x:mnist.test.images,\n",
    "                    y_:mnist.test.labels})\n",
    "                    print(\"After %s training step(s), test accuracy = %g\"%(global_step,accuracy_score))\n",
    "                else:\n",
    "                    print(\"No checkpoint file found\")\n",
    "                time.sleep(TEST_INTERVAL_SECS)"
   ]
  },
  {
   "cell_type": "code",
   "execution_count": null,
   "metadata": {},
   "outputs": [
    {
     "name": "stdout",
     "output_type": "stream",
     "text": [
      "Extracting ./data/train-images-idx3-ubyte.gz\n",
      "Extracting ./data/train-labels-idx1-ubyte.gz\n",
      "Extracting ./data/t10k-images-idx3-ubyte.gz\n",
      "Extracting ./data/t10k-labels-idx1-ubyte.gz\n",
      "INFO:tensorflow:Restoring parameters from ./model/mnist_model-4001\n",
      "After 4001 training step(s), test accuracy = 0.9705\n",
      "INFO:tensorflow:Restoring parameters from ./model/mnist_model-4001\n",
      "After 4001 training step(s), test accuracy = 0.9705\n",
      "INFO:tensorflow:Restoring parameters from ./model/mnist_model-4001\n",
      "After 4001 training step(s), test accuracy = 0.9705\n"
     ]
    }
   ],
   "source": [
    "mnist = input_data.read_data_sets(\"./data/\",one_hot=True)\n",
    "test(mnist)"
   ]
  },
  {
   "cell_type": "code",
   "execution_count": null,
   "metadata": {},
   "outputs": [],
   "source": []
  }
 ],
 "metadata": {
  "kernelspec": {
   "display_name": "Python 3",
   "language": "python",
   "name": "python3"
  },
  "language_info": {
   "codemirror_mode": {
    "name": "ipython",
    "version": 3
   },
   "file_extension": ".py",
   "mimetype": "text/x-python",
   "name": "python",
   "nbconvert_exporter": "python",
   "pygments_lexer": "ipython3",
   "version": "3.7.1"
  }
 },
 "nbformat": 4,
 "nbformat_minor": 2
}
