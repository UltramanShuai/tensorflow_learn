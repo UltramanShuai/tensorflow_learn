{
 "cells": [
  {
   "cell_type": "code",
   "execution_count": 1,
   "metadata": {},
   "outputs": [],
   "source": [
    "import tensorflow as tf"
   ]
  },
  {
   "cell_type": "code",
   "execution_count": 3,
   "metadata": {},
   "outputs": [
    {
     "name": "stdout",
     "output_type": "stream",
     "text": [
      "[<tf.Tensor 'Const_2:0' shape=() dtype=float32>, <tf.Tensor 'Const_3:0' shape=() dtype=float32>, <tf.Tensor 'Add_1:0' shape=() dtype=float32>]\n"
     ]
    }
   ],
   "source": [
    "a=tf.constant(1.0)\n",
    "b=tf.constant(2.0)\n",
    "c=tf.add(a,b)\n",
    "print([a,b,c])"
   ]
  },
  {
   "cell_type": "code",
   "execution_count": 4,
   "metadata": {},
   "outputs": [
    {
     "name": "stdout",
     "output_type": "stream",
     "text": [
      "3.0\n",
      "[1.0, 2.0, 3.0]\n"
     ]
    }
   ],
   "source": [
    "with tf. Session() as sess: \n",
    "    print(c . eval())\n",
    "    print(sess . run([a, b, c]))"
   ]
  },
  {
   "cell_type": "markdown",
   "metadata": {},
   "source": [
    "eval or Session().run()"
   ]
  },
  {
   "cell_type": "code",
   "execution_count": 8,
   "metadata": {},
   "outputs": [
    {
     "name": "stdout",
     "output_type": "stream",
     "text": [
      "3.0\n",
      "()\n"
     ]
    }
   ],
   "source": [
    "with tf.Session() as sess:\n",
    "    print(c.eval())\n",
    "    print(c.get_shape())"
   ]
  },
  {
   "cell_type": "code",
   "execution_count": 10,
   "metadata": {},
   "outputs": [
    {
     "name": "stdout",
     "output_type": "stream",
     "text": [
      "a[0]=1, a[1] =1\n",
      "c.name=Add_3:0\n",
      "c.value=[3 3]\n",
      "c.shape=(2,)\n",
      "a.consumers=[<tf.Operation 'Add_3' type=Add>, <tf.Operation 'strided_slice_2' type=StridedSlice>, <tf.Operation 'strided_slice_3' type=StridedSlice>]\n",
      "b.consumers=[<tf.Operation 'Add_3' type=Add>]\n",
      "[c.op]:\n",
      "name: \"Add_3\"\n",
      "op: \"Add\"\n",
      "input: \"Const_6\"\n",
      "input: \"Const_7\"\n",
      "attr {\n",
      "  key: \"T\"\n",
      "  value {\n",
      "    type: DT_INT32\n",
      "  }\n",
      "}\n",
      "\n"
     ]
    }
   ],
   "source": [
    "a = tf.constant([1, 1])\n",
    "b = tf.constant([ 2, 2]) \n",
    "c = tf.add(a , b) \n",
    "with tf.Session() as sess:\n",
    "    print(\"a[0]=%s, a[1] =%s\" % (a[0].eval(), a[1].eval())) \n",
    "    print(\"c.name=%s\" % c.name)\n",
    "    print(\"c.value=%s\" % c.eval())\n",
    "    print(\"c.shape=%s\" % c.shape)\n",
    "    print(\"a.consumers=%s\" % a.consumers())\n",
    "    print(\"b.consumers=%s\" % b.consumers())\n",
    "    print(\"[c.op]:\\n%s\" %c.op)"
   ]
  },
  {
   "cell_type": "markdown",
   "metadata": {},
   "source": [
    "Sparse"
   ]
  },
  {
   "cell_type": "code",
   "execution_count": 21,
   "metadata": {},
   "outputs": [],
   "source": [
    "sp = tf.SparseTensor(indices=[[0, 2], [1 , 3]], values=[1 , 2], dense_shape=[ 3, 4])"
   ]
  },
  {
   "cell_type": "code",
   "execution_count": 22,
   "metadata": {},
   "outputs": [
    {
     "name": "stdout",
     "output_type": "stream",
     "text": [
      "SparseTensorValue(indices=array([[0, 2],\n",
      "       [1, 3]], dtype=int64), values=array([1, 2]), dense_shape=array([3, 4], dtype=int64))\n"
     ]
    }
   ],
   "source": [
    "with tf.Session() as sess:\n",
    "    print(sp.eval())"
   ]
  },
  {
   "cell_type": "code",
   "execution_count": 23,
   "metadata": {},
   "outputs": [],
   "source": [
    "x = tf.SparseTensor(indices=[[0,0],[0, 2], [1 , 1]], values=[1 , 1,1], dense_shape=[ 2, 3])\n",
    "reduce_x=[tf.sparse_reduce_sum(x),\n",
    "         tf.sparse_reduce_sum(x,axis=1),\n",
    "         tf.sparse_reduce_sum(x,axis=1,keep_dims=True),\n",
    "         tf.sparse_reduce_sum(x,axis=[0,1])]"
   ]
  },
  {
   "cell_type": "code",
   "execution_count": 24,
   "metadata": {},
   "outputs": [
    {
     "name": "stdout",
     "output_type": "stream",
     "text": [
      "[3, array([2, 1]), array([[2],\n",
      "       [1]]), 3]\n"
     ]
    }
   ],
   "source": [
    "with tf.Session() as sess:\n",
    "    print(sess.run(reduce_x))"
   ]
  },
  {
   "cell_type": "code",
   "execution_count": null,
   "metadata": {},
   "outputs": [],
   "source": []
  }
 ],
 "metadata": {
  "kernelspec": {
   "display_name": "TensorFlow-GPU",
   "language": "python",
   "name": "tf-gpu"
  },
  "language_info": {
   "codemirror_mode": {
    "name": "ipython",
    "version": 3
   },
   "file_extension": ".py",
   "mimetype": "text/x-python",
   "name": "python",
   "nbconvert_exporter": "python",
   "pygments_lexer": "ipython3",
   "version": "3.6.8"
  }
 },
 "nbformat": 4,
 "nbformat_minor": 2
}
